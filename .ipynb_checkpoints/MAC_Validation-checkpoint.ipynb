{
 "cells": [
  {
   "cell_type": "code",
   "execution_count": 1,
   "id": "23be2492",
   "metadata": {},
   "outputs": [],
   "source": [
    "// Variables"
   ]
  },
  {
   "cell_type": "code",
   "execution_count": 2,
   "id": "b5edb476",
   "metadata": {},
   "outputs": [],
   "source": [
    "var result = false;\n",
    "var audit = false; // prints audit messages\n",
    "var debug = true; //prints debugLog messages\n",
    "//var dryRun = false; // run without any available claim.\n",
    "var logPrefix = \"MAC Address Validation event\";\n",
    "var maddress = ['38F9D375D120','38F9D375D121']; //List of MAC Address for shared machines"
   ]
  },
  {
   "cell_type": "code",
   "execution_count": 3,
   "id": "acf5d52d",
   "metadata": {},
   "outputs": [],
   "source": [
    "// Functions"
   ]
  },
  {
   "cell_type": "code",
   "execution_count": 4,
   "id": "6a431f0b",
   "metadata": {},
   "outputs": [],
   "source": [
    "\n",
    "function log(msg) {\n",
    "    if (audit) {\n",
    "        auditLog(logPrefix + \": \" + msg);\n",
    "    }\n",
    "}\n",
    "\n",
    "\n",
    "// log to console log\n",
    "function debugLog(msg) {\n",
    "    if (debug) {\n",
    "        console.log(\"debugLog: \" + msg);\n",
    "    }\n",
    "}"
   ]
  },
  {
   "cell_type": "code",
   "execution_count": 8,
   "id": "2e7b5fb9",
   "metadata": {},
   "outputs": [
    {
     "ename": "ReferenceError",
     "evalue": "claims is not defined",
     "output_type": "error",
     "traceback": [
      "evalmachine.<anonymous>:3",
      "if (claims.user.tags && claims.user.tags.containsText(\"valida\")) {  //Tag or group that should work on machines with specific MAC",
      "^",
      "",
      "ReferenceError: claims is not defined",
      "    at evalmachine.<anonymous>:3:1",
      "    at Script.runInThisContext (node:vm:129:12)",
      "    at Object.runInThisContext (node:vm:313:38)",
      "    at run ([eval]:1020:15)",
      "    at onRunRequest ([eval]:864:18)",
      "    at onMessage ([eval]:828:13)",
      "    at process.emit (node:events:513:28)",
      "    at emit (node:internal/child_process:946:14)",
      "    at processTicksAndRejections (node:internal/process/task_queues:84:21)"
     ]
    }
   ],
   "source": [
    "// Main\n",
    "\n",
    "if (claims.user.tags && claims.user.tags.containsText(\"valida\")) {  //Tag or group that should work on machines with specific MAC\n",
    "  result = true; \n",
    "  debugLog(\"User match\");\n",
    "} else { \n",
    "  debugLog(\"User doesn't match\");\n",
    "  return true; \n",
    "}\n",
    "\n",
    "for ( var i = 0; i < maddress.length; i++) {\n",
    "  if (claims.device.macAddresses.containsText(maddress[i]) ) {\n",
    "    result = true;\n",
    "    debugLog(\"MACAddress match found \" + maddress[i]);\n",
    "    auditLog(\"MACAddress match found \" + maddress[i]);\n",
    "    break;\n",
    "  }\n",
    "  result = false;\n",
    "}\n",
    "\n",
    "return result;"
   ]
  },
  {
   "cell_type": "code",
   "execution_count": null,
   "id": "2af17a34",
   "metadata": {},
   "outputs": [],
   "source": []
  }
 ],
 "metadata": {
  "kernelspec": {
   "display_name": "JavaScript (Node.js)",
   "language": "javascript",
   "name": "javascript"
  },
  "language_info": {
   "file_extension": ".js",
   "mimetype": "application/javascript",
   "name": "javascript",
   "version": "16.19.0"
  }
 },
 "nbformat": 4,
 "nbformat_minor": 5
}
